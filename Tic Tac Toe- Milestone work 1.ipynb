{
 "cells": [
  {
   "cell_type": "code",
   "execution_count": 1,
   "metadata": {},
   "outputs": [],
   "source": [
    "from IPython.display import clear_output\n",
    "\n",
    "# Setting up the board\n",
    "def display_board(board):\n",
    "    clear_output()\n",
    "    \n",
    "    print(board[7] + \" | \" + board[8] + \" | \" + board[9])\n",
    "    print(\"__|\" + \"___|___\")\n",
    "    print(board[4] + \" | \" + board[5] + \" | \" + board[6])\n",
    "    print(\"__|\" + \"___|___\")\n",
    "    print(board[1] + \" | \" + board[2] + \" | \" + board[3])\n",
    "    print(\"  |  \" + \" | \")"
   ]
  },
  {
   "cell_type": "code",
   "execution_count": 2,
   "metadata": {},
   "outputs": [
    {
     "name": "stdout",
     "output_type": "stream",
     "text": [
      "X | O | X\n",
      "__|___|___\n",
      "X |   | O\n",
      "__|___|___\n",
      "X |   | O\n",
      "  |   | \n"
     ]
    }
   ],
   "source": [
    "display_board(['#','X',' ','O','X',' ','O','X','O','X'])"
   ]
  },
  {
   "cell_type": "code",
   "execution_count": 3,
   "metadata": {},
   "outputs": [],
   "source": [
    "# Choosing player shapes\n",
    "def player_input():\n",
    "    \n",
    "    player1 = ''\n",
    "    \n",
    "    while True:\n",
    "        player1 = input(\"What shape do you choose, 'O' or 'X' \")\n",
    "        \n",
    "        if player1.upper() == 'X' or player1.upper() == 'O':\n",
    "            break\n",
    "            \n",
    "    if player1.upper() == 'X':\n",
    "        return ('X', 'O')\n",
    "    else: \n",
    "        return ('O', 'X')"
   ]
  },
  {
   "cell_type": "code",
   "execution_count": 4,
   "metadata": {},
   "outputs": [],
   "source": [
    "# MARK THE POSITION SELECTED ON THE BOARD\n",
    "\n",
    "def place_marker(board, marker, position):\n",
    "    board[position] = marker"
   ]
  },
  {
   "cell_type": "code",
   "execution_count": 5,
   "metadata": {},
   "outputs": [],
   "source": [
    "# mark 'X' or 'O' check all winning possibilities\n",
    "\n",
    "def win_checker(board, mark):\n",
    "    \n",
    "    return (\n",
    "        (board[7] == mark and board[8] == mark and board[9] == mark) or # across the top\n",
    "        (board[4] == mark and board[5] == mark and board[6] == mark) or # across the middle\n",
    "        (board[1] == mark and board[2] == mark and board[3] == mark) or # across the bottom\n",
    "        (board[7] == mark and board[4] == mark and board[1] == mark) or # down the left side\n",
    "        (board[8] == mark and board[5] == mark and board[2] == mark) or # down the middle\n",
    "        (board[9] == mark and board[6] == mark and board[3] == mark) or # down the right side\n",
    "        (board[7] == mark and board[5] == mark and board[3] == mark) or # diagonal\n",
    "        (board[9] == mark and board[5] == mark and board[1] == mark)) # diagonal\n",
    "\n"
   ]
  },
  {
   "cell_type": "code",
   "execution_count": 6,
   "metadata": {},
   "outputs": [
    {
     "data": {
      "text/plain": [
       "False"
      ]
     },
     "execution_count": 6,
     "metadata": {},
     "output_type": "execute_result"
    }
   ],
   "source": [
    "win_checker(['#','X',' ','O','X',' ','O','X','O','X'], 'O')"
   ]
  },
  {
   "cell_type": "code",
   "execution_count": 7,
   "metadata": {},
   "outputs": [
    {
     "data": {
      "text/plain": [
       "True"
      ]
     },
     "execution_count": 7,
     "metadata": {},
     "output_type": "execute_result"
    }
   ],
   "source": [
    "win_checker(['#','X',' ','O','X',' ','O','X','O','X'], 'X')"
   ]
  },
  {
   "cell_type": "code",
   "execution_count": 8,
   "metadata": {},
   "outputs": [],
   "source": [
    "# CHoosE WHO STARTS AT RANDOM\n",
    "\n",
    "import random\n",
    "\n",
    "def choose_first():\n",
    "    select = random.randint(0,1)\n",
    "    \n",
    "    return 'Player 1' if select == 1 else 'Player 2'"
   ]
  },
  {
   "cell_type": "code",
   "execution_count": 9,
   "metadata": {},
   "outputs": [],
   "source": [
    "def space_checker(board, position):\n",
    "    \n",
    "    return True if board[position] == ' ' else False"
   ]
  },
  {
   "cell_type": "code",
   "execution_count": 10,
   "metadata": {},
   "outputs": [],
   "source": [
    "def full_board_check(board):\n",
    "    \n",
    "    for i in range(1,10):\n",
    "        if space_checker(board, i):\n",
    "            return False\n",
    "\n",
    "    return True"
   ]
  },
  {
   "cell_type": "code",
   "execution_count": 11,
   "metadata": {},
   "outputs": [],
   "source": [
    "def player_choice(board, player):\n",
    "    position = 0\n",
    "    \n",
    "    # CHECK TO SEE IF THE POSITION SELECTED IS FREE\n",
    "    \n",
    "    while position not in [1,2,3,4,5,6,7,8,9] or not space_checker(board, position):\n",
    "        try:\n",
    "            position = int(input(f'Player {player}, choose your next position: (1-9)'))\n",
    "        except:\n",
    "            print(\"I'm sorry, please try again.\")\n",
    "     \n",
    "    return int(position)"
   ]
  },
  {
   "cell_type": "code",
   "execution_count": 12,
   "metadata": {},
   "outputs": [],
   "source": [
    "def replay():\n",
    "    choice = input(\"Do you wish to play again? Y[Yes] or N[NO]\")\n",
    "    \n",
    "    return True if choice.upper() == 'Y' else False"
   ]
  },
  {
   "cell_type": "code",
   "execution_count": 13,
   "metadata": {
    "scrolled": true
   },
   "outputs": [
    {
     "name": "stdout",
     "output_type": "stream",
     "text": [
      "O |   |  \n",
      "__|___|___\n",
      "O | X |  \n",
      "__|___|___\n",
      "O | X |  \n",
      "  |   | \n",
      "Congratulations! You have won the game!\n",
      "Do you wish to play again? Y[Yes] or N[NO]n\n"
     ]
    }
   ],
   "source": [
    "# SETTING UP THE GAME\n",
    "\n",
    "print('Welcome to Tic Tac Toe')\n",
    "\n",
    "player1_marker, player2_marker = player_input()\n",
    "    \n",
    "turn = choose_first()\n",
    "print(turn,' will start first!')\n",
    "\n",
    "while True:\n",
    "    board = [' '] * 10\n",
    "    game_on = True\n",
    "    \n",
    "    # TAKING THE INPUT FROM THE USER FOR THE SET PIECE\n",
    "#     player1_marker, player2_marker = player_input()\n",
    "    \n",
    "#     turn = choose_first()\n",
    "#     print(turn,' will start first!')\n",
    "    \n",
    "    while game_on:\n",
    "        \n",
    "        # 1ST PLAYER'S TURN\n",
    "        \n",
    "        if turn == 'Player 1':\n",
    "            \n",
    "            display_board(board)\n",
    "            position = player_choice(board, player1_marker)\n",
    "            place_marker(board, player1_marker, position)\n",
    "            \n",
    "            # NOW TO CHECK THE WIN-CASES\n",
    "            \n",
    "            if win_checker(board, player1_marker):\n",
    "                \n",
    "                display_board(board)\n",
    "                print('Congratulations! You have won the game!')\n",
    "                game_on = False\n",
    "            \n",
    "            else:\n",
    "                \n",
    "                if full_board_check(board):\n",
    "                    game_on = False\n",
    "                    display_board(board)\n",
    "                    print('Its a draw')\n",
    "                else:\n",
    "                    turn = 'Player 2'\n",
    "        \n",
    "        else:\n",
    "            \n",
    "            # 2ND PLAYER'S TURN\n",
    "            \n",
    "            display_board(board)\n",
    "            position = player_choice(board, player2_marker)\n",
    "            place_marker(board, player2_marker, position)\n",
    "            \n",
    "            \n",
    "            if win_checker(board, player2_marker):\n",
    "                \n",
    "                display_board(board)\n",
    "                print('Congratulations! You have won the game!')\n",
    "                game_on = False   \n",
    "            else:\n",
    "                \n",
    "                if full_board_check(board):\n",
    "                    game_on = False\n",
    "                    display_board(board)\n",
    "                    print('Its a draw')\n",
    "                else:\n",
    "                    turn = 'Player 1'\n",
    "\n",
    "    if not replay():\n",
    "        break"
   ]
  },
  {
   "cell_type": "code",
   "execution_count": null,
   "metadata": {},
   "outputs": [],
   "source": []
  },
  {
   "cell_type": "code",
   "execution_count": null,
   "metadata": {},
   "outputs": [],
   "source": []
  }
 ],
 "metadata": {
  "kernelspec": {
   "display_name": "Python 3",
   "language": "python",
   "name": "python3"
  },
  "language_info": {
   "codemirror_mode": {
    "name": "ipython",
    "version": 3
   },
   "file_extension": ".py",
   "mimetype": "text/x-python",
   "name": "python",
   "nbconvert_exporter": "python",
   "pygments_lexer": "ipython3",
   "version": "3.7.0"
  }
 },
 "nbformat": 4,
 "nbformat_minor": 2
}
